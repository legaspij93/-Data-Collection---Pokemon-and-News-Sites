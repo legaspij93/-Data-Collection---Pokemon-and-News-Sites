{
 "cells": [
  {
   "cell_type": "markdown",
   "metadata": {},
   "source": [
    "# Assignment: Data Collection - News Sites ¶ \n",
    "\n",
    "- John Gabriel Legaspi \n",
    "- DATASCI S11"
   ]
  },
  {
   "cell_type": "markdown",
   "metadata": {},
   "source": [
    "## Importing Libraries"
   ]
  },
  {
   "cell_type": "code",
   "execution_count": 1,
   "metadata": {},
   "outputs": [],
   "source": [
    "import requests\n",
    "import json \n",
    "from bs4 import BeautifulSoup\n",
    "from newsapi import NewsApiClient"
   ]
  },
  {
   "cell_type": "markdown",
   "metadata": {},
   "source": [
    "## Accessing NewsApi "
   ]
  },
  {
   "cell_type": "code",
   "execution_count": 2,
   "metadata": {},
   "outputs": [],
   "source": [
    "key = 'aff444efbb664d54a09d112ce2b0b28f'\n",
    "newsapi = NewsApiClient(api_key=key)"
   ]
  },
  {
   "cell_type": "markdown",
   "metadata": {},
   "source": [
    "## Get articles from CNN from 3/11 to 3/12"
   ]
  },
  {
   "cell_type": "code",
   "execution_count": 3,
   "metadata": {},
   "outputs": [
    {
     "data": {
      "text/plain": [
       "{'status': 'ok',\n",
       " 'totalResults': 2,\n",
       " 'articles': [{'source': {'id': None, 'name': 'CNN Philippines'},\n",
       "   'author': 'Cnn Philippines',\n",
       "   'title': 'Banking on digital opportunity amid COVID-19 pandemic',\n",
       "   'description': 'Helping UNObank realize its goal is a global financial technology (fintech) company, Backbase, with their Asia Pacific hub in Singapore.',\n",
       "   'url': 'http://cnnphilippines.com/business/2021/3/12/banking-on-digital-opportunity-amid-covid-19-pandemic.html?_=1615528796224',\n",
       "   'urlToImage': 'http://cnnphilippines.com/.imaging/mte/demo-cnn-new/750x450/dam/cnn/ADVERTORIAL-IMAGES/BACKBASE-COVERPHOTO.jpg/jcr:content/BACKBASE%20COVERPHOTO.jpg',\n",
       "   'publishedAt': '2021-03-12T06:07:30Z',\n",
       "   'content': 'Metro Manila (CNN Philippines) The need for movement restrictions due to the COVID-19 pandemic has accelerated a transition towards digital banking.\\r\\nMore Filipinos have turned to online fund transfe… [+2531 chars]'},\n",
       "  {'source': {'id': None, 'name': 'CNN Philippines'},\n",
       "   'author': 'Cnn Philippines',\n",
       "   'title': 'Arthaland tops off its green office development in ARCA South',\n",
       "   'description': 'Arthaland Corporation tops off its Savya Financial Center North Tower in Arca South, Taguig City which will soon become a multi-certified green building.',\n",
       "   'url': 'http://www.cnnphilippines.com/business/2021/3/2/arthaland-tops-off-its-green-office-development-in-arca-south.html?_=1615463372657',\n",
       "   'urlToImage': 'http://cnnphilippines.com/.imaging/mte/demo-cnn-new/750x450/dam/cnn/ADVERTORIAL-IMAGES/ARTHALAND FEB18/_0007_05_Rear_Elevation.png/jcr:content/_0007_05_Rear_Elevation.png',\n",
       "   'publishedAt': '2021-03-11T12:14:28Z',\n",
       "   'content': 'Metro Manila (CNN Philippines) Arthaland Corporation is off to a strong start this 2021 as it tops off its Savya Financial Center North Tower in ARCA South, Taguig City.\\r\\nThe two-tower sustainable of… [+3486 chars]'}]}"
      ]
     },
     "execution_count": 3,
     "metadata": {},
     "output_type": "execute_result"
    }
   ],
   "source": [
    "articles = newsapi.get_everything(domains='cnnphilippines.com',from_param='2021-03-11',to='2021-03-12',language='en')\n",
    "articles"
   ]
  },
  {
   "cell_type": "code",
   "execution_count": 4,
   "metadata": {},
   "outputs": [
    {
     "data": {
      "text/plain": [
       "[{'source': {'id': None, 'name': 'CNN Philippines'},\n",
       "  'author': 'Cnn Philippines',\n",
       "  'title': 'Banking on digital opportunity amid COVID-19 pandemic',\n",
       "  'description': 'Helping UNObank realize its goal is a global financial technology (fintech) company, Backbase, with their Asia Pacific hub in Singapore.',\n",
       "  'url': 'http://cnnphilippines.com/business/2021/3/12/banking-on-digital-opportunity-amid-covid-19-pandemic.html?_=1615528796224',\n",
       "  'urlToImage': 'http://cnnphilippines.com/.imaging/mte/demo-cnn-new/750x450/dam/cnn/ADVERTORIAL-IMAGES/BACKBASE-COVERPHOTO.jpg/jcr:content/BACKBASE%20COVERPHOTO.jpg',\n",
       "  'publishedAt': '2021-03-12T06:07:30Z',\n",
       "  'content': 'Metro Manila (CNN Philippines) The need for movement restrictions due to the COVID-19 pandemic has accelerated a transition towards digital banking.\\r\\nMore Filipinos have turned to online fund transfe… [+2531 chars]'},\n",
       " {'source': {'id': None, 'name': 'CNN Philippines'},\n",
       "  'author': 'Cnn Philippines',\n",
       "  'title': 'Arthaland tops off its green office development in ARCA South',\n",
       "  'description': 'Arthaland Corporation tops off its Savya Financial Center North Tower in Arca South, Taguig City which will soon become a multi-certified green building.',\n",
       "  'url': 'http://www.cnnphilippines.com/business/2021/3/2/arthaland-tops-off-its-green-office-development-in-arca-south.html?_=1615463372657',\n",
       "  'urlToImage': 'http://cnnphilippines.com/.imaging/mte/demo-cnn-new/750x450/dam/cnn/ADVERTORIAL-IMAGES/ARTHALAND FEB18/_0007_05_Rear_Elevation.png/jcr:content/_0007_05_Rear_Elevation.png',\n",
       "  'publishedAt': '2021-03-11T12:14:28Z',\n",
       "  'content': 'Metro Manila (CNN Philippines) Arthaland Corporation is off to a strong start this 2021 as it tops off its Savya Financial Center North Tower in ARCA South, Taguig City.\\r\\nThe two-tower sustainable of… [+3486 chars]'}]"
      ]
     },
     "execution_count": 4,
     "metadata": {},
     "output_type": "execute_result"
    }
   ],
   "source": [
    "articles.keys()\n",
    "\n",
    "articlesBody = articles['articles']\n",
    "\n",
    "articlesBody"
   ]
  },
  {
   "cell_type": "markdown",
   "metadata": {},
   "source": [
    "## Extract full article body and save information in a list"
   ]
  },
  {
   "cell_type": "code",
   "execution_count": 6,
   "metadata": {},
   "outputs": [
    {
     "data": {
      "text/plain": [
       "[{'date': '2021-03-12T06:07:30Z',\n",
       "  'title': 'Banking on digital opportunity amid COVID-19 pandemic',\n",
       "  'full_article': '\\n\\nMetro Manila (CNN Philippines) — The need for movement restrictions due to the COVID-19 pandemic has accelerated a transition towards digital banking.\\nMore Filipinos have turned to online fund transfers instead of ATM transactions\\xa0when the enhanced community quarantine was imposed in March 2020. Bangko Sentral ng Pilipinas Governor Benjamin Diokno earlier reported a 25 percent increase in online bank transactions for the first one and a half months of the ECQ, compared to 45 days before strict stay-at-home rules took effect.\\nRecognizing this shift in customer behavior, the BSP late last year approved a new set of rules for fully online banks or those that accept deposits and fund transfer requests – as legitimate entities even if they do not have brick-and-mortar branches.\\nFollowing the release of the banking industry framework, a digital-only bank based in Singapore sought to launch in the Philippines.\\nDigital bank UNObank is currently working with regulators to obtain its license to operate in the Philippines and is on a mission to help bring unbanked Filipinos into the formal banking system.\\n“Financial inclusion is a big challenge in the Philippines,” UNObank founder Manish Bhai told CNN Philippines’ New Day on Friday.\\n“Fifty million people are unbanked, so making banking available to the unbanked or bringing innovative products and solutions - which are simpler and more competitive to those who already have bank accounts - is a very exciting and eventful journey,” he added.\\nHelping UNObank realize its goal is a global financial technology (fintech) company, Backbase, with their Asia Pacific hub in Singapore.\\nProviding a “digital-first” engagement banking platform to financial institutions, Backbase’s digital-first strategy stems from a focus on the customer experience. This includes addressing the various issues and pain points throughout the customer banking journey to help banks create better digital customer experiences.\\n“We believe that a one-single platform that we are bringing to the table should be able to do four things - delight customers of banks, empower the employees of banks, orchestrate a lot of value from an ecosystem perspective and finally, digitize these operations,” Riddhi Dutta, regional head for ASEAN and India at Backbase, said in an interview on New Day.\\nRiddhi also shared that there are opportunities for incumbent banks to work together with fintech firms to leverage each other’s skillsets and niche. This allows banks to have better operation efficiency to stay much more agile while focusing on customer’s needs.\\n“At the end of the day, we want to make a difference to the way people are banking and the way people are doing their financial transactions,” he added.\\n\\n\\n\\n\\n\\n\\n\\n\\n\\n\\n\\n\\n\\n',\n",
       "  'author': 'Cnn Philippines'},\n",
       " {'date': '2021-03-11T12:14:28Z',\n",
       "  'title': 'Arthaland tops off its green office development in ARCA South',\n",
       "  'full_article': '\\n\\nMetro Manila (CNN Philippines) — Arthaland Corporation is off to a strong start this 2021 as it tops off its Savya Financial Center North Tower in ARCA South, Taguig City.\\nThe two-tower sustainable office project was launched in 2019, with its North Tower built in partnership with Mitsubishi Estate, one of Japan’s largest real estate developers. This tower is expected to be completed by November 2021.\\n“Through this strong partnership, the Savya Financial Center became our company’s first venture in the Philippines,” said Masato Aikawa, managing director of Mitsubishi Estate Asia. “The success of this development will certainly become the foundation for our long-term partnership with Arthaland.”\\n\\n\\n\\n\\n\\n\\n\\n\\n\\nPHOTO FROM ARTHALAND. A fully integrated retail area will be located at the ground and second floor, which is envisioned to feature a mix of banking, dining, service, convenience, and lifestyle locators. (Artist’s Perspective)\\n\\n\\n“Building on the success of our world-renowned and multi-awarded Arthaland Century Pacific Tower in Bonifacio Global City and the Cebu Exchange in Cebu City, Savya Financial Center is poised to become the preferred address in what will be the most highly connected business district in the country,” according to Jaime C. González, vice chairman and president of Arthaland.\\nSavya will feature a fully integrated retail area, top-class amenities, zero-contact building features, retail area, and various green and open spaces.\\nArthaland and Mitsubishi Estate are also incorporating new technologies into the tower, like remote virtual concierge and semi-autonomous security surveillance robots that promote a safer, healthier, contactless office environment. Occupants will also benefit from its sustainable and wellness features that create a better modern workplace ecosystem that encourages greater efficiency and productivity and provides higher operation savings, thus making it the ideal location for both local and multinational companies looking to thrive within this new global business environment.\\n\\n\\n\\n\\n\\n\\n\\n\\n\\nPHOTO FROM ARTHALAND. Interior-designed designer lobbies will feature zero contact technologies, such as virtual concierges, RFID turnstiles, among other features to create cleaner and healthier indoor environments. (Artist’s Perspective)\\n\\n\\nStrategically located within ARCA South, an upcoming major growth center in Taguig City, Savya Financial Center will provide seamless access to Metro Manila and the global business community through various new transportation networks such as the Southeast Metro Manila Expressway, Metro Manila Skyway, Metro Manila Subway, and the Taguig Integrated Terminal Exchange.\\nIt also lies near various warehousing facilities in the nearby Food Terminal, Inc., the Ninoy Aquino International Airport, and major business hubs like Makati City, Bonifacio Global City, and Ortigas Center.\\nArthaland will also offer shuttle services to and from several pick-up and drop-off points across greater Metro Manila.\\n\\n\\n\\n\\n\\n\\n\\n\\n\\nPHOTO FROM ARTHALAND. A landscaped Sky Deck offers building occupant fantastic views and offers places for convergence in the midst of native and endemic vegetation. (Artist’s Perspective)\\n\\n\\nSavya will soon become a multi-certified green building after it has been pre-certified for Leadership in Energy and Environmental Design (LEED) Gold certification. Meanwhile, it is on track to be granted Philippine Green Building Council’s Building for Ecologically Responsible Design Excellence (BERDE) certification, International WELL Building Institute’s WELL Building Standard™, and the International Finance Corporation’s Excellence in Design for Greater Efficiencies (EDGE®) certification.\\n \\n \\nArthaland is the foremost green and sustainable developer recognized by both local and global organizations for its superior design, high quality, focus on sustainability and innovation. It has made its mark in the Philippine real estate industry by pioneering the development and management of exceptional best-in-class properties that adhere to international and local standards for premium green projects.\\n \\nThe Savya Financial Center showroom is located at the ARTHALAND GALLERY, G/F Arya Plaza at Arya Residences, McKinley Parkway corner Rizal Drive, Bonifacio Global City. For more information call +63917 77 ARTHA (27842), e-mail ask@arthaland.com, or visit www.arthaland.com.\\n\\n\\n\\n\\n\\n\\n\\n\\n\\n\\n\\n\\n\\n\\n\\n\\n\\n\\n\\n\\n',\n",
       "  'author': 'Cnn Philippines'}]"
      ]
     },
     "execution_count": 6,
     "metadata": {},
     "output_type": "execute_result"
    }
   ],
   "source": [
    "newsData = []\n",
    "\n",
    "for i in range(len(articlesBody)):\n",
    "    body = requests.get(articlesBody[i]['url'])\n",
    "    soup = BeautifulSoup(body.content, 'html.parser')\n",
    "    bodyContent = soup.find_all(\"div\", {\"class\": \"article-maincontent-p\"})\n",
    "    text = bodyContent[0].get_text()\n",
    "    \n",
    "    output = {}\n",
    "    output['date'] = articlesBody[i]['publishedAt']\n",
    "    output['title'] = articlesBody[i]['title']\n",
    "    output['full_article'] = text\n",
    "    output['author'] = articlesBody[i]['author']\n",
    "    \n",
    "    newsData.append(output)\n",
    "\n",
    "newsData"
   ]
  },
  {
   "cell_type": "markdown",
   "metadata": {},
   "source": [
    "## Generation of JSON output file"
   ]
  },
  {
   "cell_type": "code",
   "execution_count": 7,
   "metadata": {},
   "outputs": [],
   "source": [
    "output = open(\"newsArticles.json\", \"w\")\n",
    "\n",
    "json.dump(newsData, output, indent = 6) \n",
    "  \n",
    "output.close()"
   ]
  },
  {
   "cell_type": "markdown",
   "metadata": {},
   "source": [
    "## References\n",
    "\n",
    "- Lee, N. (2019, Nov 19). Scraping Web Articles Using NewsAPI in Python. Retrieved from: https://towardsdatascience.com/scraping-web-articles-using-newsapi-in-python-a0e97fbab8ed\n",
    "\n",
    "- NewsAPI. (n.d.). Documentation. Retrieved from: https://newsapi.org/docs"
   ]
  }
 ],
 "metadata": {
  "kernelspec": {
   "display_name": "Python 3",
   "language": "python",
   "name": "python3"
  },
  "language_info": {
   "codemirror_mode": {
    "name": "ipython",
    "version": 3
   },
   "file_extension": ".py",
   "mimetype": "text/x-python",
   "name": "python",
   "nbconvert_exporter": "python",
   "pygments_lexer": "ipython3",
   "version": "3.8.3"
  }
 },
 "nbformat": 4,
 "nbformat_minor": 4
}
